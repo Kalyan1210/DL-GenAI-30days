{
 "cells": [
  {
   "cell_type": "code",
   "execution_count": 1,
   "id": "20a8d579",
   "metadata": {},
   "outputs": [
    {
     "name": "stderr",
     "output_type": "stream",
     "text": [
      "100%|██████████| 9.91M/9.91M [00:00<00:00, 29.5MB/s]\n",
      "100%|██████████| 28.9k/28.9k [00:00<00:00, 735kB/s]\n",
      "100%|██████████| 1.65M/1.65M [00:00<00:00, 6.87MB/s]\n",
      "100%|██████████| 4.54k/4.54k [00:00<00:00, 1.65MB/s]\n"
     ]
    }
   ],
   "source": [
    "import torch\n",
    "import torch.nn.functional as F\n",
    "\n",
    "torch.manual_seed(0)\n",
    "\n",
    "# tiny config\n",
    "BATCH = 256\n",
    "IN_DIM = 28 * 28\n",
    "H = 64\n",
    "OUT_DIM = 10\n",
    "\n",
    "# one mini‑batch of MNIST\n",
    "from torchvision import datasets, transforms\n",
    "ds = datasets.MNIST(\"data\", train=True, download=True,\n",
    "                    transform=transforms.Compose([transforms.ToTensor()]))\n",
    "x0, y0 = next(iter(torch.utils.data.DataLoader(ds, batch_size=BATCH, shuffle=False)))\n",
    "x0 = x0.view(BATCH, -1)          # flatten\n",
    "y0_onehot = F.one_hot(y0, OUT_DIM).float()\n"
   ]
  },
  {
   "cell_type": "code",
   "execution_count": 2,
   "id": "44158bf0",
   "metadata": {},
   "outputs": [
    {
     "name": "stdout",
     "output_type": "stream",
     "text": [
      "Initial manual loss: 2.302769184112549\n"
     ]
    }
   ],
   "source": [
    "# init weights\n",
    "W1 = torch.randn(IN_DIM, H, dtype=torch.float32) * 0.01\n",
    "b1 = torch.zeros(H)\n",
    "W2 = torch.randn(H, OUT_DIM) * 0.01\n",
    "b2 = torch.zeros(OUT_DIM)\n",
    "\n",
    "def forward_manual(x):\n",
    "    z1 = x @ W1 + b1\n",
    "    a1 = torch.relu(z1)\n",
    "    logits = a1 @ W2 + b2\n",
    "    probs = torch.softmax(logits, dim=1)\n",
    "    loss = -(y0_onehot * probs.log()).sum(dim=1).mean()\n",
    "    return loss, (x, z1, a1, logits, probs)\n",
    "\n",
    "loss, cache = forward_manual(x0)\n",
    "print(\"Initial manual loss:\", loss.item())\n"
   ]
  },
  {
   "cell_type": "code",
   "execution_count": 3,
   "id": "f5f8053a",
   "metadata": {},
   "outputs": [],
   "source": [
    "def backward_manual(cache):\n",
    "    x, z1, a1, logits, probs = cache\n",
    "\n",
    "    # grad of loss w.r.t logits\n",
    "    dlogits = (probs - y0_onehot) / BATCH           # (B,10)\n",
    "\n",
    "    # W2 and b2\n",
    "    dW2 = a1.T @ dlogits                            # (H,10)\n",
    "    db2 = dlogits.sum(0)\n",
    "\n",
    "    # back into hidden layer\n",
    "    da1 = dlogits @ W2.T                            # (B,H)\n",
    "    dz1 = da1.clone()\n",
    "    dz1[z1 <= 0] = 0                                # ReLU derivative\n",
    "\n",
    "    # W1 and b1\n",
    "    dW1 = x.T @ dz1                                 # (784,H)\n",
    "    db1 = dz1.sum(0)\n",
    "\n",
    "    return dW1, db1, dW2, db2\n"
   ]
  },
  {
   "cell_type": "code",
   "execution_count": 4,
   "id": "a595c3fc",
   "metadata": {},
   "outputs": [
    {
     "name": "stdout",
     "output_type": "stream",
     "text": [
      "W1 relative diff 8.49e-08\n",
      "b1 relative diff 9.75e-08\n",
      "W2 relative diff 7.95e-08\n",
      "b2 relative diff 1.12e-07\n"
     ]
    }
   ],
   "source": [
    "# build the same net in PyTorch autograd\n",
    "x0_t = x0.detach().clone().requires_grad_(True)\n",
    "model = torch.nn.Sequential(\n",
    "    torch.nn.Linear(IN_DIM, H),\n",
    "    torch.nn.ReLU(),\n",
    "    torch.nn.Linear(H, OUT_DIM),\n",
    ")\n",
    "with torch.no_grad():\n",
    "    model[0].weight.copy_(W1.T)\n",
    "    model[0].bias.copy_(b1)\n",
    "    model[2].weight.copy_(W2.T)\n",
    "    model[2].bias.copy_(b2)\n",
    "\n",
    "loss_t = F.cross_entropy(model(x0_t), y0)\n",
    "loss_t.backward()\n",
    "\n",
    "dW1_a = model[0].weight.grad.T        # transpose to align shapes\n",
    "db1_a = model[0].bias.grad\n",
    "dW2_a = model[2].weight.grad.T\n",
    "db2_a = model[2].bias.grad\n",
    "\n",
    "dW1_m, db1_m, dW2_m, db2_m = backward_manual(cache)\n",
    "\n",
    "for name, m, a in [\n",
    "    (\"W1\", dW1_m, dW1_a),\n",
    "    (\"b1\", db1_m, db1_a),\n",
    "    (\"W2\", dW2_m, dW2_a),\n",
    "    (\"b2\", db2_m, db2_a),\n",
    "]:\n",
    "    diff = (m - a).norm() / a.norm()\n",
    "    print(f\"{name} relative diff {diff:.2e}\")\n"
   ]
  },
  {
   "cell_type": "code",
   "execution_count": 5,
   "id": "b8e1a121",
   "metadata": {},
   "outputs": [
    {
     "data": {
      "image/png": "[encoded data removed]",
      "text/plain": [
       "<Figure size 640x480 with 1 Axes>"
      ]
     },
     "metadata": {},
     "output_type": "display_data"
    }
   ],
   "source": [
    "losses = []\n",
    "for i in range(100):\n",
    "    loss, cache = forward_manual(x0)\n",
    "    dW1, db1, dW2, db2 = backward_manual(cache)\n",
    "    # SGD step\n",
    "    W1 -= 0.1 * dW1\n",
    "    b1 -= 0.1 * db1\n",
    "    W2 -= 0.1 * dW2\n",
    "    b2 -= 0.1 * db2\n",
    "    losses.append(loss.item())\n",
    "\n",
    "import matplotlib.pyplot as plt\n",
    "plt.plot(losses)\n",
    "plt.xlabel(\"Iteration\")\n",
    "plt.ylabel(\"Loss\")\n",
    "plt.title(\"Manual net loss\")\n",
    "plt.savefig(\"manual_loss.png\", dpi=120)\n"
   ]
  }
 ],
 "metadata": {
  "kernelspec": {
   "display_name": ".venv",
   "language": "python",
   "name": "python3"
  },
  "language_info": {
   "codemirror_mode": {
    "name": "ipython",
    "version": 3
   },
   "file_extension": ".py",
   "mimetype": "text/x-python",
   "name": "python",
   "nbconvert_exporter": "python",
   "pygments_lexer": "ipython3",
   "version": "3.13.5"
  }
 },
 "nbformat": 4,
 "nbformat_minor": 5
}
